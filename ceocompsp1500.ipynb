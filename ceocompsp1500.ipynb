{
 "cells": [
  {
   "cell_type": "code",
   "execution_count": 1,
   "metadata": {},
   "outputs": [
    {
     "name": "stderr",
     "output_type": "stream",
     "text": [
      "/var/folders/6_/w9g0lyhn5632jr666js3y_lw0000gn/T/ipykernel_53878/2982935899.py:4: StaleDataWarning: CPI data is out of date. To accurately inflate to today's dollars, you must run `cpi.update()`.\n",
      "  import cpi\n"
     ]
    }
   ],
   "source": [
    "# Import libraries\n",
    "import pandas as pd\n",
    "import numpy as np\n",
    "import cpi\n",
    "import datetime as dt\n",
    "import matplotlib.pyplot as plt\n",
    "\n",
    "# Libraries for regression\n",
    "# import statsmodels.formula.api as sm\n",
    "# import statsmodels.api as sm1\n",
    "# from statsmodels.sandbox.regression.gmm import IV2SLS\n",
    "# from statsmodels.api import add_constant\n",
    "# from linearmodels.iv import IV2SLS\n",
    "# from linearmodels.iv import compare"
   ]
  },
  {
   "cell_type": "markdown",
   "metadata": {},
   "source": [
    "## Load datasets"
   ]
  },
  {
   "cell_type": "code",
   "execution_count": 2,
   "metadata": {},
   "outputs": [
    {
     "name": "stderr",
     "output_type": "stream",
     "text": [
      "/var/folders/6_/w9g0lyhn5632jr666js3y_lw0000gn/T/ipykernel_53878/2335064662.py:2: DtypeWarning: Columns (77,80,96) have mixed types. Specify dtype option on import or set low_memory=False.\n",
      "  execu500 = pd.read_csv('/Users/haivanle/Documents/AEA/exesp500fullvariables.csv')\n",
      "/var/folders/6_/w9g0lyhn5632jr666js3y_lw0000gn/T/ipykernel_53878/2335064662.py:3: DtypeWarning: Columns (77,80,96) have mixed types. Specify dtype option on import or set low_memory=False.\n",
      "  execu400 = pd.read_csv('/Users/haivanle/Documents/AEA/exesp400fullvariables.csv')\n",
      "/var/folders/6_/w9g0lyhn5632jr666js3y_lw0000gn/T/ipykernel_53878/2335064662.py:4: DtypeWarning: Columns (77,80,96) have mixed types. Specify dtype option on import or set low_memory=False.\n",
      "  execu600 = pd.read_csv('/Users/haivanle/Documents/AEA/exesp600fullvariables.csv')\n",
      "/var/folders/6_/w9g0lyhn5632jr666js3y_lw0000gn/T/ipykernel_53878/2335064662.py:5: DtypeWarning: Columns (26,30,969,970,980) have mixed types. Specify dtype option on import or set low_memory=False.\n",
      "  sp500 = pd.read_csv('/Users/haivanle/Documents/AEA/sp500afull.csv')\n",
      "/var/folders/6_/w9g0lyhn5632jr666js3y_lw0000gn/T/ipykernel_53878/2335064662.py:6: DtypeWarning: Columns (26,30,948,969,970) have mixed types. Specify dtype option on import or set low_memory=False.\n",
      "  sp400 = pd.read_csv('/Users/haivanle/Documents/AEA/sp400afull.csv')\n",
      "/var/folders/6_/w9g0lyhn5632jr666js3y_lw0000gn/T/ipykernel_53878/2335064662.py:7: DtypeWarning: Columns (30,969,970) have mixed types. Specify dtype option on import or set low_memory=False.\n",
      "  sp600 = pd.read_csv('/Users/haivanle/Documents/AEA/sp600afull.csv')\n"
     ]
    }
   ],
   "source": [
    "# Read files / Load datasets\n",
    "execu500 = pd.read_csv('/Users/haivanle/Documents/AEA/exesp500fullvariables.csv')\n",
    "execu400 = pd.read_csv('/Users/haivanle/Documents/AEA/exesp400fullvariables.csv')\n",
    "execu600 = pd.read_csv('/Users/haivanle/Documents/AEA/exesp600fullvariables.csv')\n",
    "sp500 = pd.read_csv('/Users/haivanle/Documents/AEA/sp500afull.csv')\n",
    "sp400 = pd.read_csv('/Users/haivanle/Documents/AEA/sp400afull.csv')\n",
    "sp600 = pd.read_csv('/Users/haivanle/Documents/AEA/sp600afull.csv')"
   ]
  },
  {
   "cell_type": "markdown",
   "metadata": {},
   "source": [
    "## Prepares the dataset for analysis"
   ]
  },
  {
   "cell_type": "code",
   "execution_count": 3,
   "metadata": {},
   "outputs": [],
   "source": [
    "# Rename key columns\n",
    "sp500 = sp500.rename(columns={\"fyear\": \"YEAR\", \"tic\": \"TICKER\"})\n",
    "sp400 = sp500.rename(columns={\"fyear\": \"YEAR\", \"tic\": \"TICKER\"})\n",
    "sp600 = sp500.rename(columns={\"fyear\": \"YEAR\", \"tic\": \"TICKER\"})"
   ]
  },
  {
   "cell_type": "code",
   "execution_count": 4,
   "metadata": {},
   "outputs": [],
   "source": [
    "# Combine executive data\n",
    "df = pd.concat([execu500, execu400, execu600])\n",
    "df['stockoptions'] = df['STOCK_AWARDS'] + df['OPTION_AWARDS']\n",
    "\n",
    "# Adjust Stock Options based on CPI, base year is 2022\n",
    "df[\"adjusted_stockoptions\"] = df.apply(lambda x: cpi.inflate(x[\"stockoptions\"], x[\"YEAR\"]), axis=1)\n",
    "\n",
    "# Adjust total compensation based on CPI, base year is 2022\n",
    "df[\"adjusted_TC\"] = df.apply(lambda x: cpi.inflate(x[\"TOTAL_SEC\"], x[\"YEAR\"]), axis=1)\n",
    "\n",
    "# Change to million USD\n",
    "df['adjusted_stockoptions'] = df['adjusted_stockoptions'] / 1000\n",
    "df['adjusted_TC'] = df['adjusted_TC'] / 1000"
   ]
  },
  {
   "cell_type": "code",
   "execution_count": 5,
   "metadata": {},
   "outputs": [],
   "source": [
    "# Drop rows with negative compensation\n",
    "df = df[(df['adjusted_stockoptions']>0) & (df['adjusted_TC']>0)]"
   ]
  },
  {
   "cell_type": "code",
   "execution_count": 6,
   "metadata": {},
   "outputs": [],
   "source": [
    "# Keep only CEOs data\n",
    "ceo = df[(df['CEOANN'] == 'CEO')]"
   ]
  },
  {
   "cell_type": "code",
   "execution_count": 7,
   "metadata": {},
   "outputs": [
    {
     "name": "stderr",
     "output_type": "stream",
     "text": [
      "/var/folders/6_/w9g0lyhn5632jr666js3y_lw0000gn/T/ipykernel_53878/2882941134.py:2: SettingWithCopyWarning: \n",
      "A value is trying to be set on a copy of a slice from a DataFrame.\n",
      "Try using .loc[row_indexer,col_indexer] = value instead\n",
      "\n",
      "See the caveats in the documentation: https://pandas.pydata.org/pandas-docs/stable/user_guide/indexing.html#returning-a-view-versus-a-copy\n",
      "  ceo['dateceo'] = pd.to_datetime(ceo['BECAMECEO'])\n",
      "/var/folders/6_/w9g0lyhn5632jr666js3y_lw0000gn/T/ipykernel_53878/2882941134.py:3: SettingWithCopyWarning: \n",
      "A value is trying to be set on a copy of a slice from a DataFrame.\n",
      "Try using .loc[row_indexer,col_indexer] = value instead\n",
      "\n",
      "See the caveats in the documentation: https://pandas.pydata.org/pandas-docs/stable/user_guide/indexing.html#returning-a-view-versus-a-copy\n",
      "  ceo['yearceo'] = ceo['dateceo'].dt.year\n",
      "/var/folders/6_/w9g0lyhn5632jr666js3y_lw0000gn/T/ipykernel_53878/2882941134.py:6: SettingWithCopyWarning: \n",
      "A value is trying to be set on a copy of a slice from a DataFrame.\n",
      "Try using .loc[row_indexer,col_indexer] = value instead\n",
      "\n",
      "See the caveats in the documentation: https://pandas.pydata.org/pandas-docs/stable/user_guide/indexing.html#returning-a-view-versus-a-copy\n",
      "  ceo['tenure'] = (ceo['YEAR'].astype(float) - ceo['yearceo'])\n"
     ]
    }
   ],
   "source": [
    "# Get the year that executive became CEO\n",
    "ceo['dateceo'] = pd.to_datetime(ceo['BECAMECEO'])\n",
    "ceo['yearceo'] = ceo['dateceo'].dt.year\n",
    "\n",
    "# Get the tenure of CEOs - defined as : year of data observation - yearbecame ceo\n",
    "ceo['tenure'] = (ceo['YEAR'].astype(float) - ceo['yearceo'])\n",
    "\n",
    "# Drop negative tenures\n",
    "ceo_tenure = ceo[(ceo['tenure'] > 0)]"
   ]
  },
  {
   "cell_type": "code",
   "execution_count": 13,
   "metadata": {},
   "outputs": [
    {
     "data": {
      "text/plain": [
       "Index(['EXEC_FULLNAME', 'CFOANN', 'EXECDIR', 'OLD_DATAFMT_FLAG', 'INTERLOCK',\n",
       "       'REPRICE', 'EXECRANK', 'CO_PER_ROL', 'CONAME', 'TITLEANN',\n",
       "       ...\n",
       "       'SUB_TELE', 'NAICS', 'SPINDEX', 'SIC', 'stockoptions',\n",
       "       'adjusted_stockoptions', 'adjusted_TC', 'dateceo', 'yearceo', 'tenure'],\n",
       "      dtype='object', length=113)"
      ]
     },
     "execution_count": 13,
     "metadata": {},
     "output_type": "execute_result"
    }
   ],
   "source": [
    "ceo_tenure.columns"
   ]
  },
  {
   "cell_type": "markdown",
   "metadata": {},
   "source": [
    "## Outputs a figure or table"
   ]
  },
  {
   "cell_type": "code",
   "execution_count": 20,
   "metadata": {},
   "outputs": [
    {
     "data": {
      "image/png": "[encoded data removed]",
      "text/plain": [
       "<Figure size 640x480 with 1 Axes>"
      ]
     },
     "metadata": {},
     "output_type": "display_data"
    }
   ],
   "source": [
    "# Plotting a basic histogram\n",
    "plt.hist(ceo_tenure[\"tenure\"], bins=10, color='skyblue', edgecolor='black')\n",
    " \n",
    "# Adding labels and title\n",
    "plt.xlabel('Years')\n",
    "plt.ylabel('Frequency')\n",
    "plt.title('Tenure Distribution')\n",
    " \n",
    "# Display the plot\n",
    "plt.show()"
   ]
  },
  {
   "cell_type": "markdown",
   "metadata": {},
   "source": [
    "## Produces summary statistics for a sample of interest"
   ]
  },
  {
   "cell_type": "code",
   "execution_count": 9,
   "metadata": {},
   "outputs": [
    {
     "data": {
      "text/html": [
       "<div>\n",
       "<style scoped>\n",
       "    .dataframe tbody tr th:only-of-type {\n",
       "        vertical-align: middle;\n",
       "    }\n",
       "\n",
       "    .dataframe tbody tr th {\n",
       "        vertical-align: top;\n",
       "    }\n",
       "\n",
       "    .dataframe thead th {\n",
       "        text-align: right;\n",
       "    }\n",
       "</style>\n",
       "<table border=\"1\" class=\"dataframe\">\n",
       "  <thead>\n",
       "    <tr style=\"text-align: right;\">\n",
       "      <th></th>\n",
       "      <th>adjusted_TC</th>\n",
       "      <th>adjusted_stockoptions</th>\n",
       "      <th>tenure</th>\n",
       "    </tr>\n",
       "  </thead>\n",
       "  <tbody>\n",
       "    <tr>\n",
       "      <th>count</th>\n",
       "      <td>18060.000000</td>\n",
       "      <td>18060.000000</td>\n",
       "      <td>18060.000000</td>\n",
       "    </tr>\n",
       "    <tr>\n",
       "      <th>mean</th>\n",
       "      <td>10.599521</td>\n",
       "      <td>6.414844</td>\n",
       "      <td>7.959745</td>\n",
       "    </tr>\n",
       "    <tr>\n",
       "      <th>std</th>\n",
       "      <td>23.430712</td>\n",
       "      <td>22.515053</td>\n",
       "      <td>7.079754</td>\n",
       "    </tr>\n",
       "    <tr>\n",
       "      <th>min</th>\n",
       "      <td>0.045920</td>\n",
       "      <td>0.000365</td>\n",
       "      <td>1.000000</td>\n",
       "    </tr>\n",
       "    <tr>\n",
       "      <th>25%</th>\n",
       "      <td>4.238230</td>\n",
       "      <td>1.878145</td>\n",
       "      <td>3.000000</td>\n",
       "    </tr>\n",
       "    <tr>\n",
       "      <th>50%</th>\n",
       "      <td>7.687152</td>\n",
       "      <td>4.221171</td>\n",
       "      <td>6.000000</td>\n",
       "    </tr>\n",
       "    <tr>\n",
       "      <th>75%</th>\n",
       "      <td>13.480877</td>\n",
       "      <td>8.180412</td>\n",
       "      <td>11.000000</td>\n",
       "    </tr>\n",
       "    <tr>\n",
       "      <th>max</th>\n",
       "      <td>2771.539799</td>\n",
       "      <td>2771.471385</td>\n",
       "      <td>56.000000</td>\n",
       "    </tr>\n",
       "  </tbody>\n",
       "</table>\n",
       "</div>"
      ],
      "text/plain": [
       "        adjusted_TC  adjusted_stockoptions        tenure\n",
       "count  18060.000000           18060.000000  18060.000000\n",
       "mean      10.599521               6.414844      7.959745\n",
       "std       23.430712              22.515053      7.079754\n",
       "min        0.045920               0.000365      1.000000\n",
       "25%        4.238230               1.878145      3.000000\n",
       "50%        7.687152               4.221171      6.000000\n",
       "75%       13.480877               8.180412     11.000000\n",
       "max     2771.539799            2771.471385     56.000000"
      ]
     },
     "execution_count": 9,
     "metadata": {},
     "output_type": "execute_result"
    }
   ],
   "source": [
    "ceo_tenure[[\"adjusted_TC\", \"adjusted_stockoptions\", \"tenure\"]].describe()"
   ]
  },
  {
   "cell_type": "code",
   "execution_count": 21,
   "metadata": {},
   "outputs": [],
   "source": [
    "''' Detect outliers in compensation '''\n",
    "\n",
    "''' Detection '''\n",
    "# IQR\n",
    "# Calculate the upper and lower limits\n",
    "Q1a = ceo_tenure['adjusted_TC'].quantile(0.25)\n",
    "Q3a = ceo_tenure['adjusted_TC'].quantile(0.75)\n",
    "IQRa = Q3a - Q1a\n",
    "lowera = Q1a - 1.5*IQRa\n",
    "uppera = Q3a + 1.5*IQRa\n",
    "\n",
    "# IQR\n",
    "# Calculate the upper and lower limits\n",
    "Q1b = ceo_tenure['adjusted_stockoptions'].quantile(0.25)\n",
    "Q3b = ceo_tenure['adjusted_stockoptions'].quantile(0.75)\n",
    "IQRb = Q3b - Q1b\n",
    "lowerb = Q1b - 1.5*IQRb\n",
    "upperb = Q3b + 1.5*IQRb\n",
    " \n",
    "# Removing the outliers\n",
    "ceo_tenure = ceo_tenure.loc[(ceo_tenure['adjusted_stockoptions']< upperb) & (ceo_tenure['adjusted_stockoptions'] > lowerb) \n",
    "                            & (ceo_tenure['adjusted_TC'] < uppera) & (ceo_tenure['adjusted_TC'] > lowera) ]"
   ]
  },
  {
   "cell_type": "code",
   "execution_count": 22,
   "metadata": {},
   "outputs": [],
   "source": [
    "''' Detect outliers in tenure '''\n",
    "# IQR\n",
    "# Calculate the upper and lower limits\n",
    "Q1_t = ceo_tenure['tenure'].quantile(0.25)\n",
    "Q3_t = ceo_tenure['tenure'].quantile(0.75)\n",
    "IQR_t = Q3_t - Q1_t\n",
    "lower_t = Q1_t - 1.5*IQR_t\n",
    "upper_t = Q3_t + 1.5*IQR_t\n",
    " \n",
    "# Removing the outliers\n",
    "ceo_tenure = ceo_tenure.loc[(ceo_tenure['tenure']< upper_t) & (ceo_tenure['tenure'] > lower_t) ]"
   ]
  },
  {
   "cell_type": "code",
   "execution_count": 24,
   "metadata": {},
   "outputs": [
    {
     "data": {
      "image/png": "[encoded data removed]",
      "text/plain": [
       "<Figure size 640x480 with 1 Axes>"
      ]
     },
     "metadata": {},
     "output_type": "display_data"
    }
   ],
   "source": [
    "# Plotting a basic histogram\n",
    "plt.hist(ceo_tenure[\"tenure\"], bins=10, color='skyblue', edgecolor='black')\n",
    " \n",
    "# Adding labels and title\n",
    "plt.xlabel('Years')\n",
    "plt.ylabel('Frequency')\n",
    "plt.title('Tenure Distribution after Omission of Extreme Outliers')\n",
    " \n",
    "# Display the plot\n",
    "plt.show()"
   ]
  },
  {
   "cell_type": "code",
   "execution_count": 13,
   "metadata": {},
   "outputs": [],
   "source": [
    "# Combine financial data\n",
    "df2 = pd.concat([sp500, sp400, sp600])"
   ]
  },
  {
   "cell_type": "code",
   "execution_count": 14,
   "metadata": {},
   "outputs": [],
   "source": [
    "# Component of Altman's Z-score for public companies\n",
    "df2['X1'] = (df2['act'] - df2['lct']) / df2['at']\n",
    "df2['X2'] = df2['re'] / df2['at']\n",
    "df2['X3'] = df2['ebit'] / df2['at']\n",
    "df2['X4'] = df2['prcc_f'] * df2['csho'] / df2['lt']\n",
    "df2['X5'] = df2['sale'] / df2['at']\n",
    "\n",
    "# Calculate Z-score\n",
    "df2['zscore'] = 1.2*df2['X1'] + 1.4*df2['X2'] + 3.3*df2['X3'] + 0.6*df2['X4'] + 1.0*df2['X5']"
   ]
  },
  {
   "cell_type": "code",
   "execution_count": 15,
   "metadata": {},
   "outputs": [
    {
     "data": {
      "text/plain": [
       "count    46404.000000\n",
       "mean        43.040830\n",
       "std        104.980433\n",
       "min          0.000000\n",
       "25%          5.000000\n",
       "50%         14.577000\n",
       "75%         43.000000\n",
       "max       2300.000000\n",
       "Name: emp, dtype: float64"
      ]
     },
     "execution_count": 15,
     "metadata": {},
     "output_type": "execute_result"
    }
   ],
   "source": [
    "df2['emp'].describe()"
   ]
  },
  {
   "cell_type": "code",
   "execution_count": 16,
   "metadata": {},
   "outputs": [
    {
     "data": {
      "text/html": [
       "<div>\n",
       "<style scoped>\n",
       "    .dataframe tbody tr th:only-of-type {\n",
       "        vertical-align: middle;\n",
       "    }\n",
       "\n",
       "    .dataframe tbody tr th {\n",
       "        vertical-align: top;\n",
       "    }\n",
       "\n",
       "    .dataframe thead th {\n",
       "        text-align: right;\n",
       "    }\n",
       "</style>\n",
       "<table border=\"1\" class=\"dataframe\">\n",
       "  <thead>\n",
       "    <tr style=\"text-align: right;\">\n",
       "      <th></th>\n",
       "      <th>EXEC_FULLNAME</th>\n",
       "      <th>CFOANN</th>\n",
       "      <th>EXECDIR</th>\n",
       "      <th>OLD_DATAFMT_FLAG</th>\n",
       "      <th>INTERLOCK</th>\n",
       "      <th>REPRICE</th>\n",
       "      <th>EXECRANK</th>\n",
       "      <th>CO_PER_ROL</th>\n",
       "      <th>CONAME</th>\n",
       "      <th>TITLEANN</th>\n",
       "      <th>...</th>\n",
       "      <th>stko</th>\n",
       "      <th>weburl</th>\n",
       "      <th>dldte</th>\n",
       "      <th>ipodate</th>\n",
       "      <th>X1</th>\n",
       "      <th>X2</th>\n",
       "      <th>X3</th>\n",
       "      <th>X4</th>\n",
       "      <th>X5</th>\n",
       "      <th>zscore</th>\n",
       "    </tr>\n",
       "  </thead>\n",
       "  <tbody>\n",
       "    <tr>\n",
       "      <th>0</th>\n",
       "      <td>Gerard J. Arpey</td>\n",
       "      <td>NaN</td>\n",
       "      <td>1</td>\n",
       "      <td>0</td>\n",
       "      <td>0</td>\n",
       "      <td>0</td>\n",
       "      <td>NaN</td>\n",
       "      <td>14221</td>\n",
       "      <td>AMERICAN AIRLINES GROUP INC</td>\n",
       "      <td>chairman, president &amp; CEO</td>\n",
       "      <td>...</td>\n",
       "      <td>0.0</td>\n",
       "      <td>www.aa.com</td>\n",
       "      <td>NaN</td>\n",
       "      <td>NaN</td>\n",
       "      <td>-0.055001</td>\n",
       "      <td>-0.109281</td>\n",
       "      <td>0.036370</td>\n",
       "      <td>0.225802</td>\n",
       "      <td>0.774164</td>\n",
       "      <td>0.810671</td>\n",
       "    </tr>\n",
       "    <tr>\n",
       "      <th>1</th>\n",
       "      <td>Gerard J. Arpey</td>\n",
       "      <td>NaN</td>\n",
       "      <td>1</td>\n",
       "      <td>0</td>\n",
       "      <td>0</td>\n",
       "      <td>0</td>\n",
       "      <td>NaN</td>\n",
       "      <td>14221</td>\n",
       "      <td>AMERICAN AIRLINES GROUP INC</td>\n",
       "      <td>chairman, president &amp; CEO</td>\n",
       "      <td>...</td>\n",
       "      <td>0.0</td>\n",
       "      <td>www.aa.com</td>\n",
       "      <td>NaN</td>\n",
       "      <td>NaN</td>\n",
       "      <td>-0.055001</td>\n",
       "      <td>-0.109281</td>\n",
       "      <td>0.036370</td>\n",
       "      <td>0.225802</td>\n",
       "      <td>0.774164</td>\n",
       "      <td>0.810671</td>\n",
       "    </tr>\n",
       "    <tr>\n",
       "      <th>2</th>\n",
       "      <td>Gerard J. Arpey</td>\n",
       "      <td>NaN</td>\n",
       "      <td>1</td>\n",
       "      <td>0</td>\n",
       "      <td>0</td>\n",
       "      <td>0</td>\n",
       "      <td>NaN</td>\n",
       "      <td>14221</td>\n",
       "      <td>AMERICAN AIRLINES GROUP INC</td>\n",
       "      <td>chairman, president &amp; CEO</td>\n",
       "      <td>...</td>\n",
       "      <td>0.0</td>\n",
       "      <td>www.aa.com</td>\n",
       "      <td>NaN</td>\n",
       "      <td>NaN</td>\n",
       "      <td>-0.055001</td>\n",
       "      <td>-0.109281</td>\n",
       "      <td>0.036370</td>\n",
       "      <td>0.225802</td>\n",
       "      <td>0.774164</td>\n",
       "      <td>0.810671</td>\n",
       "    </tr>\n",
       "    <tr>\n",
       "      <th>3</th>\n",
       "      <td>Gerard J. Arpey</td>\n",
       "      <td>NaN</td>\n",
       "      <td>1</td>\n",
       "      <td>0</td>\n",
       "      <td>0</td>\n",
       "      <td>0</td>\n",
       "      <td>NaN</td>\n",
       "      <td>14221</td>\n",
       "      <td>AMERICAN AIRLINES GROUP INC</td>\n",
       "      <td>chairman, president &amp; CEO</td>\n",
       "      <td>...</td>\n",
       "      <td>0.0</td>\n",
       "      <td>www.aa.com</td>\n",
       "      <td>NaN</td>\n",
       "      <td>NaN</td>\n",
       "      <td>-0.043891</td>\n",
       "      <td>-0.025200</td>\n",
       "      <td>0.036016</td>\n",
       "      <td>0.135026</td>\n",
       "      <td>0.801372</td>\n",
       "      <td>0.913289</td>\n",
       "    </tr>\n",
       "    <tr>\n",
       "      <th>4</th>\n",
       "      <td>Gerard J. Arpey</td>\n",
       "      <td>NaN</td>\n",
       "      <td>1</td>\n",
       "      <td>0</td>\n",
       "      <td>0</td>\n",
       "      <td>0</td>\n",
       "      <td>NaN</td>\n",
       "      <td>14221</td>\n",
       "      <td>AMERICAN AIRLINES GROUP INC</td>\n",
       "      <td>chairman, president &amp; CEO</td>\n",
       "      <td>...</td>\n",
       "      <td>0.0</td>\n",
       "      <td>www.aa.com</td>\n",
       "      <td>NaN</td>\n",
       "      <td>NaN</td>\n",
       "      <td>-0.043891</td>\n",
       "      <td>-0.025200</td>\n",
       "      <td>0.036016</td>\n",
       "      <td>0.135026</td>\n",
       "      <td>0.801372</td>\n",
       "      <td>0.913289</td>\n",
       "    </tr>\n",
       "  </tbody>\n",
       "</table>\n",
       "<p>5 rows × 1098 columns</p>\n",
       "</div>"
      ],
      "text/plain": [
       "     EXEC_FULLNAME CFOANN  EXECDIR  OLD_DATAFMT_FLAG  INTERLOCK  REPRICE  \\\n",
       "0  Gerard J. Arpey    NaN        1                 0          0        0   \n",
       "1  Gerard J. Arpey    NaN        1                 0          0        0   \n",
       "2  Gerard J. Arpey    NaN        1                 0          0        0   \n",
       "3  Gerard J. Arpey    NaN        1                 0          0        0   \n",
       "4  Gerard J. Arpey    NaN        1                 0          0        0   \n",
       "\n",
       "   EXECRANK  CO_PER_ROL                       CONAME  \\\n",
       "0       NaN       14221  AMERICAN AIRLINES GROUP INC   \n",
       "1       NaN       14221  AMERICAN AIRLINES GROUP INC   \n",
       "2       NaN       14221  AMERICAN AIRLINES GROUP INC   \n",
       "3       NaN       14221  AMERICAN AIRLINES GROUP INC   \n",
       "4       NaN       14221  AMERICAN AIRLINES GROUP INC   \n",
       "\n",
       "                    TITLEANN  ... stko      weburl  dldte  ipodate        X1  \\\n",
       "0  chairman, president & CEO  ...  0.0  www.aa.com    NaN      NaN -0.055001   \n",
       "1  chairman, president & CEO  ...  0.0  www.aa.com    NaN      NaN -0.055001   \n",
       "2  chairman, president & CEO  ...  0.0  www.aa.com    NaN      NaN -0.055001   \n",
       "3  chairman, president & CEO  ...  0.0  www.aa.com    NaN      NaN -0.043891   \n",
       "4  chairman, president & CEO  ...  0.0  www.aa.com    NaN      NaN -0.043891   \n",
       "\n",
       "         X2        X3        X4        X5    zscore  \n",
       "0 -0.109281  0.036370  0.225802  0.774164  0.810671  \n",
       "1 -0.109281  0.036370  0.225802  0.774164  0.810671  \n",
       "2 -0.109281  0.036370  0.225802  0.774164  0.810671  \n",
       "3 -0.025200  0.036016  0.135026  0.801372  0.913289  \n",
       "4 -0.025200  0.036016  0.135026  0.801372  0.913289  \n",
       "\n",
       "[5 rows x 1098 columns]"
      ]
     },
     "execution_count": 16,
     "metadata": {},
     "output_type": "execute_result"
    }
   ],
   "source": [
    "# Merge executive data with firm's financial data\n",
    "secondstage = ceo_tenure.merge(df2, on = ['YEAR', 'TICKER'], how = 'left')\n",
    "secondstage.head()"
   ]
  },
  {
   "cell_type": "code",
   "execution_count": 17,
   "metadata": {},
   "outputs": [
    {
     "data": {
      "text/plain": [
       "count    13908.000000\n",
       "mean         4.127047\n",
       "std          4.160550\n",
       "min        -11.967550\n",
       "25%          1.870505\n",
       "50%          3.215587\n",
       "75%          4.857279\n",
       "max         55.433156\n",
       "Name: zscore, dtype: float64"
      ]
     },
     "execution_count": 17,
     "metadata": {},
     "output_type": "execute_result"
    }
   ],
   "source": [
    "secondstage['zscore'].describe()"
   ]
  },
  {
   "cell_type": "code",
   "execution_count": 19,
   "metadata": {},
   "outputs": [],
   "source": [
    "# Read Chicago Board Momemtum Data - Volatility Index and FAMA\n",
    "CBVIXFAMA = pd.read_csv('/Users/haivanle/Documents/AEA/CBVIX.csv') "
   ]
  },
  {
   "cell_type": "code",
   "execution_count": 20,
   "metadata": {},
   "outputs": [],
   "source": [
    "secondstage = secondstage.merge(CBVIXFAMA, on = ['YEAR'], how = 'left')"
   ]
  },
  {
   "cell_type": "code",
   "execution_count": 21,
   "metadata": {},
   "outputs": [],
   "source": [
    "# Create dummies for policies\n",
    "# TARP's Pay Czar : 2009-2010\n",
    "# Dodd Frank Act : 2010 - present\n",
    "# SOX : 2002 - present\n",
    "\n",
    "# If the year is 2009-2010, the value is 1, otherwise, it is 0\n",
    "secondstage['payczar'] = np.where((secondstage['YEAR'] == 2009.0) | (secondstage['YEAR'] == 2010.0), 1, 0)\n",
    "\n",
    "# If the year is 2010-2022, the value is 1, otherwise, it is 0\n",
    "secondstage['doddfrank'] = np.where((secondstage['YEAR'] == 2010.0) | (secondstage['YEAR'] == 2011.0) | \n",
    "                                    (secondstage['YEAR'] == 2012.0) |\n",
    "                                    (secondstage['YEAR'] == 2013.0) | (secondstage['YEAR'] == 2014.0) | \n",
    "                                    (secondstage['YEAR'] == 2015.0) | (secondstage['YEAR'] == 2016.0) |\n",
    "                                    (secondstage['YEAR'] == 2017.0) | (secondstage['YEAR'] == 2018.0) |\n",
    "                                    (secondstage['YEAR'] == 2019.0) | (secondstage['YEAR'] == 2020.0) |\n",
    "                                    (secondstage['YEAR'] == 2021.0) | (secondstage['YEAR'] == 2022.0), 1, 0) "
   ]
  },
  {
   "cell_type": "code",
   "execution_count": 27,
   "metadata": {},
   "outputs": [],
   "source": [
    "secondstage.to_csv('/Users/haivanle/Documents/AEA/zscorefinal1.csv') "
   ]
  },
  {
   "cell_type": "code",
   "execution_count": 22,
   "metadata": {},
   "outputs": [
    {
     "name": "stderr",
     "output_type": "stream",
     "text": [
      "/var/folders/6_/w9g0lyhn5632jr666js3y_lw0000gn/T/ipykernel_9298/3797098431.py:2: DtypeWarning: Columns (7) have mixed types. Specify dtype option on import or set low_memory=False.\n",
      "  stockreturn = pd.read_csv('/Users/haivanle/Documents/AEA/stockreturnclean.csv')\n"
     ]
    }
   ],
   "source": [
    "# Read stock data\n",
    "stockreturn = pd.read_csv('/Users/haivanle/Documents/AEA/stockreturnclean.csv')"
   ]
  },
  {
   "cell_type": "code",
   "execution_count": 23,
   "metadata": {},
   "outputs": [
    {
     "data": {
      "text/html": [
       "<div>\n",
       "<style scoped>\n",
       "    .dataframe tbody tr th:only-of-type {\n",
       "        vertical-align: middle;\n",
       "    }\n",
       "\n",
       "    .dataframe tbody tr th {\n",
       "        vertical-align: top;\n",
       "    }\n",
       "\n",
       "    .dataframe thead th {\n",
       "        text-align: right;\n",
       "    }\n",
       "</style>\n",
       "<table border=\"1\" class=\"dataframe\">\n",
       "  <thead>\n",
       "    <tr style=\"text-align: right;\">\n",
       "      <th></th>\n",
       "      <th>EXEC_FULLNAME</th>\n",
       "      <th>CFOANN</th>\n",
       "      <th>EXECDIR</th>\n",
       "      <th>OLD_DATAFMT_FLAG</th>\n",
       "      <th>INTERLOCK</th>\n",
       "      <th>REPRICE</th>\n",
       "      <th>EXECRANK</th>\n",
       "      <th>CO_PER_ROL</th>\n",
       "      <th>CONAME</th>\n",
       "      <th>TITLEANN</th>\n",
       "      <th>...</th>\n",
       "      <th>NAICS</th>\n",
       "      <th>SPINDEX</th>\n",
       "      <th>SIC</th>\n",
       "      <th>stockoptions</th>\n",
       "      <th>adjusted_stockoptions</th>\n",
       "      <th>adjusted_TC</th>\n",
       "      <th>dateceo</th>\n",
       "      <th>yearceo</th>\n",
       "      <th>tenure</th>\n",
       "      <th>emp</th>\n",
       "    </tr>\n",
       "  </thead>\n",
       "  <tbody>\n",
       "    <tr>\n",
       "      <th>0</th>\n",
       "      <td>Gerard J. Arpey</td>\n",
       "      <td>NaN</td>\n",
       "      <td>1</td>\n",
       "      <td>0</td>\n",
       "      <td>0</td>\n",
       "      <td>0</td>\n",
       "      <td>NaN</td>\n",
       "      <td>14221</td>\n",
       "      <td>AMERICAN AIRLINES GROUP INC</td>\n",
       "      <td>chairman, president &amp; CEO</td>\n",
       "      <td>...</td>\n",
       "      <td>481111</td>\n",
       "      <td>2030</td>\n",
       "      <td>4512</td>\n",
       "      <td>9410.276</td>\n",
       "      <td>13.660537</td>\n",
       "      <td>14.808487</td>\n",
       "      <td>2003-04-25</td>\n",
       "      <td>2003.0</td>\n",
       "      <td>3.0</td>\n",
       "      <td>86.6</td>\n",
       "    </tr>\n",
       "    <tr>\n",
       "      <th>1</th>\n",
       "      <td>Gerard J. Arpey</td>\n",
       "      <td>NaN</td>\n",
       "      <td>1</td>\n",
       "      <td>0</td>\n",
       "      <td>0</td>\n",
       "      <td>0</td>\n",
       "      <td>NaN</td>\n",
       "      <td>14221</td>\n",
       "      <td>AMERICAN AIRLINES GROUP INC</td>\n",
       "      <td>chairman, president &amp; CEO</td>\n",
       "      <td>...</td>\n",
       "      <td>481111</td>\n",
       "      <td>2030</td>\n",
       "      <td>4512</td>\n",
       "      <td>9410.276</td>\n",
       "      <td>13.660537</td>\n",
       "      <td>14.808487</td>\n",
       "      <td>2003-04-25</td>\n",
       "      <td>2003.0</td>\n",
       "      <td>3.0</td>\n",
       "      <td>86.6</td>\n",
       "    </tr>\n",
       "    <tr>\n",
       "      <th>2</th>\n",
       "      <td>Gerard J. Arpey</td>\n",
       "      <td>NaN</td>\n",
       "      <td>1</td>\n",
       "      <td>0</td>\n",
       "      <td>0</td>\n",
       "      <td>0</td>\n",
       "      <td>NaN</td>\n",
       "      <td>14221</td>\n",
       "      <td>AMERICAN AIRLINES GROUP INC</td>\n",
       "      <td>chairman, president &amp; CEO</td>\n",
       "      <td>...</td>\n",
       "      <td>481111</td>\n",
       "      <td>2030</td>\n",
       "      <td>4512</td>\n",
       "      <td>9410.276</td>\n",
       "      <td>13.660537</td>\n",
       "      <td>14.808487</td>\n",
       "      <td>2003-04-25</td>\n",
       "      <td>2003.0</td>\n",
       "      <td>3.0</td>\n",
       "      <td>86.6</td>\n",
       "    </tr>\n",
       "    <tr>\n",
       "      <th>3</th>\n",
       "      <td>Gerard J. Arpey</td>\n",
       "      <td>NaN</td>\n",
       "      <td>1</td>\n",
       "      <td>0</td>\n",
       "      <td>0</td>\n",
       "      <td>0</td>\n",
       "      <td>NaN</td>\n",
       "      <td>14221</td>\n",
       "      <td>AMERICAN AIRLINES GROUP INC</td>\n",
       "      <td>chairman, president &amp; CEO</td>\n",
       "      <td>...</td>\n",
       "      <td>481111</td>\n",
       "      <td>2030</td>\n",
       "      <td>4512</td>\n",
       "      <td>5895.570</td>\n",
       "      <td>8.321363</td>\n",
       "      <td>9.657765</td>\n",
       "      <td>2003-04-25</td>\n",
       "      <td>2003.0</td>\n",
       "      <td>4.0</td>\n",
       "      <td>85.5</td>\n",
       "    </tr>\n",
       "    <tr>\n",
       "      <th>4</th>\n",
       "      <td>Gerard J. Arpey</td>\n",
       "      <td>NaN</td>\n",
       "      <td>1</td>\n",
       "      <td>0</td>\n",
       "      <td>0</td>\n",
       "      <td>0</td>\n",
       "      <td>NaN</td>\n",
       "      <td>14221</td>\n",
       "      <td>AMERICAN AIRLINES GROUP INC</td>\n",
       "      <td>chairman, president &amp; CEO</td>\n",
       "      <td>...</td>\n",
       "      <td>481111</td>\n",
       "      <td>2030</td>\n",
       "      <td>4512</td>\n",
       "      <td>5895.570</td>\n",
       "      <td>8.321363</td>\n",
       "      <td>9.657765</td>\n",
       "      <td>2003-04-25</td>\n",
       "      <td>2003.0</td>\n",
       "      <td>4.0</td>\n",
       "      <td>85.5</td>\n",
       "    </tr>\n",
       "  </tbody>\n",
       "</table>\n",
       "<p>5 rows × 114 columns</p>\n",
       "</div>"
      ],
      "text/plain": [
       "     EXEC_FULLNAME CFOANN  EXECDIR  OLD_DATAFMT_FLAG  INTERLOCK  REPRICE  \\\n",
       "0  Gerard J. Arpey    NaN        1                 0          0        0   \n",
       "1  Gerard J. Arpey    NaN        1                 0          0        0   \n",
       "2  Gerard J. Arpey    NaN        1                 0          0        0   \n",
       "3  Gerard J. Arpey    NaN        1                 0          0        0   \n",
       "4  Gerard J. Arpey    NaN        1                 0          0        0   \n",
       "\n",
       "   EXECRANK  CO_PER_ROL                       CONAME  \\\n",
       "0       NaN       14221  AMERICAN AIRLINES GROUP INC   \n",
       "1       NaN       14221  AMERICAN AIRLINES GROUP INC   \n",
       "2       NaN       14221  AMERICAN AIRLINES GROUP INC   \n",
       "3       NaN       14221  AMERICAN AIRLINES GROUP INC   \n",
       "4       NaN       14221  AMERICAN AIRLINES GROUP INC   \n",
       "\n",
       "                    TITLEANN  ...   NAICS  SPINDEX   SIC  stockoptions  \\\n",
       "0  chairman, president & CEO  ...  481111     2030  4512      9410.276   \n",
       "1  chairman, president & CEO  ...  481111     2030  4512      9410.276   \n",
       "2  chairman, president & CEO  ...  481111     2030  4512      9410.276   \n",
       "3  chairman, president & CEO  ...  481111     2030  4512      5895.570   \n",
       "4  chairman, president & CEO  ...  481111     2030  4512      5895.570   \n",
       "\n",
       "   adjusted_stockoptions  adjusted_TC    dateceo  yearceo  tenure   emp  \n",
       "0              13.660537    14.808487 2003-04-25   2003.0     3.0  86.6  \n",
       "1              13.660537    14.808487 2003-04-25   2003.0     3.0  86.6  \n",
       "2              13.660537    14.808487 2003-04-25   2003.0     3.0  86.6  \n",
       "3               8.321363     9.657765 2003-04-25   2003.0     4.0  85.5  \n",
       "4               8.321363     9.657765 2003-04-25   2003.0     4.0  85.5  \n",
       "\n",
       "[5 rows x 114 columns]"
      ]
     },
     "execution_count": 23,
     "metadata": {},
     "output_type": "execute_result"
    }
   ],
   "source": [
    "# Merge executive data with firm's financial data\n",
    "stockemp = ceo_tenure.merge(df2[['YEAR', 'TICKER', 'emp']], on = ['YEAR', 'TICKER'], how = 'left')\n",
    "stockemp.head()"
   ]
  },
  {
   "cell_type": "code",
   "execution_count": 24,
   "metadata": {},
   "outputs": [],
   "source": [
    "# Change merge style\n",
    "stockiv = stockemp.merge(stockreturn, on = ['YEAR', 'TICKER'], how = 'left')"
   ]
  },
  {
   "cell_type": "code",
   "execution_count": 25,
   "metadata": {},
   "outputs": [],
   "source": [
    "stockiv = stockiv.merge(CBVIXFAMA, on = ['YEAR'], how = 'left')\n",
    "# Create dummies for policies\n",
    "# TARP's Pay Czar : 2009-2010\n",
    "# Dodd Frank Act : 2010 - present\n",
    "# SOX : 2002 - present\n",
    "\n",
    "# If the year is 2009-2010, the value is 1, otherwise, it is 0\n",
    "stockiv['payczar'] = np.where((stockiv['YEAR'] == 2009) | (stockiv['YEAR'] == 2010), 1, 0)\n",
    "\n",
    "# If the year is 2010-2022, the value is 1, otherwise, it is 0\n",
    "stockiv['doddfrank'] = np.where((stockiv['YEAR'] == 2010) | (stockiv['YEAR'] == 2011) | \n",
    "                                    (stockiv['YEAR'] == 2012) |\n",
    "                                    (stockiv['YEAR'] == 2013) | (stockiv['YEAR'] == 2014) | \n",
    "                                    (stockiv['YEAR'] == 2015) | (stockiv['YEAR'] == 2016) |\n",
    "                                    (stockiv['YEAR'] == 2017) | (stockiv['YEAR'] == 2018) |\n",
    "                                    (stockiv['YEAR'] == 2019) | (stockiv['YEAR'] == 2020) |\n",
    "                                    (stockiv['YEAR'] == 2021) | (stockiv['YEAR'] == 2022), 1, 0) "
   ]
  },
  {
   "cell_type": "code",
   "execution_count": 26,
   "metadata": {},
   "outputs": [],
   "source": [
    "stockiv.to_csv('/Users/haivanle/Documents/AEA/stockvolfinal1.csv') "
   ]
  }
 ],
 "metadata": {
  "kernelspec": {
   "display_name": "Pandas",
   "language": "python",
   "name": "python3"
  },
  "language_info": {
   "codemirror_mode": {
    "name": "ipython",
    "version": 3
   },
   "file_extension": ".py",
   "mimetype": "text/x-python",
   "name": "python",
   "nbconvert_exporter": "python",
   "pygments_lexer": "ipython3",
   "version": "3.11.7"
  },
  "orig_nbformat": 4
 },
 "nbformat": 4,
 "nbformat_minor": 2
}
